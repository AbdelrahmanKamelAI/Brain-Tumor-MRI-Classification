{
 "cells": [
  {
   "cell_type": "code",
   "execution_count": null,
   "id": "362f2ed9",
   "metadata": {},
   "outputs": [],
   "source": [
    "import os\n",
    "import cv2\n",
    "import numpy as np\n",
    "from tensorflow.keras.preprocessing.image import ImageDataGenerator"
   ]
  },
  {
   "cell_type": "code",
   "execution_count": null,
   "id": "70579459",
   "metadata": {},
   "outputs": [],
   "source": [
    "# ================== Settings ==================\n",
    "input_dir = r\"C:\\Users\\kabde\\Desktop\\ITI project\\Brain Tumor MRI Classification\\BrainTumor\\BrainTumor\\brain_tumor_dataset\"  # Change to your folder path\n",
    "output_dir = r\"augmented_dataset\"  # Output folder for the new images"
   ]
  },
  {
   "cell_type": "code",
   "execution_count": null,
   "id": "d388c641",
   "metadata": {},
   "outputs": [],
   "source": [
    "# Class names (same as folder names)\n",
    "classes = [\"no\", \"yes\"]"
   ]
  },
  {
   "cell_type": "code",
   "execution_count": null,
   "id": "4deabfdb",
   "metadata": {},
   "outputs": [],
   "source": [
    "# ================== Create output folder ==================\n",
    "if not os.path.exists(output_dir):\n",
    "    os.makedirs(output_dir)\n",
    "for cls in classes:\n",
    "    os.makedirs(os.path.join(output_dir, cls), exist_ok=True)"
   ]
  },
  {
   "cell_type": "code",
   "execution_count": null,
   "id": "92dddaef",
   "metadata": {},
   "outputs": [],
   "source": [
    "# ================== Count images for each class ==================\n",
    "counts = {}\n",
    "for cls in classes:\n",
    "    cls_folder = os.path.join(input_dir, cls)\n",
    "    counts[cls] = len(os.listdir(cls_folder))\n",
    "\n",
    "max_count = max(counts.values())  # Largest number (will balance other classes to this)\n",
    "\n",
    "print(\"Number of images before balancing:\", counts)"
   ]
  },
  {
   "cell_type": "code",
   "execution_count": null,
   "id": "a8af475e",
   "metadata": {},
   "outputs": [],
   "source": [
    "\n",
    "# ================== Prepare Augmentation for the smaller class ==================\n",
    "datagen = ImageDataGenerator(\n",
    "    rotation_range=30,\n",
    "    width_shift_range=0.2,\n",
    "    height_shift_range=0.2,\n",
    "    shear_range=0.2,\n",
    "    zoom_range=0.2,\n",
    "    brightness_range=(0.8, 1.2),\n",
    "    horizontal_flip=True,\n",
    "    fill_mode='nearest'\n",
    ")\n",
    "\n",
    "# Generate images\n",
    "for cls in classes:\n",
    "    cls_folder = os.path.join(input_dir, cls)\n",
    "    save_folder = os.path.join(output_dir, cls)\n",
    "    img_files = os.listdir(cls_folder)\n",
    "    \n",
    "    # Copy all original images\n",
    "    for img_name in img_files:\n",
    "        img = cv2.imread(os.path.join(cls_folder, img_name))\n",
    "        img = cv2.resize(img, (224, 224))\n",
    "        cv2.imwrite(os.path.join(save_folder, img_name), img)\n",
    "    \n",
    "    # If class size is smaller than max_count, add images using augmentation\n",
    "    num_to_generate = max_count - len(img_files)\n",
    "    if num_to_generate > 0:\n",
    "        print(f\"Generating {num_to_generate} augmented images for class '{cls}'\")\n",
    "        img_index = 0\n",
    "        while num_to_generate > 0:\n",
    "            for img_name in img_files:\n",
    "                if num_to_generate <= 0:\n",
    "                    break\n",
    "                img = cv2.imread(os.path.join(cls_folder, img_name))\n",
    "                if img is None:\n",
    "                    continue\n",
    "                img = cv2.resize(img, (224, 224))\n",
    "                img_array = np.expand_dims(img, 0)\n",
    "                \n",
    "                aug_iter = datagen.flow(\n",
    "                    img_array, \n",
    "                    batch_size=1,\n",
    "                    save_to_dir=save_folder,\n",
    "                    save_prefix=\"aug\",\n",
    "                    save_format=\"jpg\"\n",
    "                )\n",
    "                next(aug_iter)\n",
    "                num_to_generate -= 1\n",
    "                img_index += 1\n",
    "\n",
    "print(\"Classes have been balanced and images saved in:\", output_dir)"
   ]
  }
 ],
 "metadata": {
  "language_info": {
   "name": "python"
  }
 },
 "nbformat": 4,
 "nbformat_minor": 5
}
