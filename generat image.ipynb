{
 "cells": [
  {
   "cell_type": "code",
   "execution_count": 1,
   "id": "6de69bad",
   "metadata": {},
   "outputs": [],
   "source": [
    "import os\n",
    "import cv2\n",
    "import numpy as np\n",
    "from tensorflow.keras.preprocessing.image import ImageDataGenerator"
   ]
  },
  {
   "cell_type": "code",
   "execution_count": null,
   "id": "ae4b93a2",
   "metadata": {},
   "outputs": [],
   "source": [
    "# ================== Settings ==================\n",
    "input_dir = r\"C:\\Users\\kabde\\Desktop\\ITI project\\Brain Tumor MRI Classification\\augmented_dataset\"  # Path to the original folder\n",
    "output_dir = r\"dataset\"  # Output folder (will be created if it doesn't exist)\n",
    "num_augmented_images_per_image = 10  # Number of new images to generate for each original image\n"
   ]
  },
  {
   "cell_type": "code",
   "execution_count": null,
   "id": "5388798f",
   "metadata": {},
   "outputs": [],
   "source": [
    "# Augmentation Generator\n",
    "datagen = ImageDataGenerator(\n",
    "    rotation_range=30,\n",
    "    width_shift_range=0.2,\n",
    "    height_shift_range=0.2,\n",
    "    shear_range=0.2,\n",
    "    zoom_range=0.2,\n",
    "    brightness_range=(0.8, 1.2),\n",
    "    horizontal_flip=True,\n",
    "    fill_mode='nearest'\n",
    ")"
   ]
  },
  {
   "cell_type": "code",
   "execution_count": null,
   "id": "2a2a049a",
   "metadata": {},
   "outputs": [],
   "source": [
    "# ================== Create output folder ==================\n",
    "if not os.path.exists(output_dir):\n",
    "    os.makedirs(output_dir)"
   ]
  },
  {
   "cell_type": "code",
   "execution_count": null,
   "id": "92755e3e",
   "metadata": {},
   "outputs": [
    {
     "name": "stdout",
     "output_type": "stream",
     "text": [
      "✅ تم إنشاء الداتا الجديدة وحفظها في: dataset\n"
     ]
    }
   ],
   "source": [
    "# ================== Generate augmented images ==================\n",
    "for label_name in os.listdir(input_dir):\n",
    "    class_folder = os.path.join(input_dir, label_name)\n",
    "    if os.path.isdir(class_folder):\n",
    "        # Create class folder in the output directory\n",
    "        save_class_folder = os.path.join(output_dir, label_name)\n",
    "        os.makedirs(save_class_folder, exist_ok=True)\n",
    "        \n",
    "        for filename in os.listdir(class_folder):\n",
    "            img_path = os.path.join(class_folder, filename)\n",
    "            img = cv2.imread(img_path)\n",
    "            if img is None:\n",
    "                continue\n",
    "            \n",
    "            # Resize image to 224x224\n",
    "            img = cv2.resize(img, (224, 224))\n",
    "            img_array = np.expand_dims(img, 0)  # Add batch dimension\n",
    "            \n",
    "            # Generate new images and save them\n",
    "            aug_iter = datagen.flow(\n",
    "                img_array, \n",
    "                batch_size=1,\n",
    "                save_to_dir=save_class_folder,\n",
    "                save_prefix=\"aug\",\n",
    "                save_format=\"jpg\"\n",
    "            )\n",
    "            \n",
    "            for _ in range(num_augmented_images_per_image):\n",
    "                next(aug_iter)\n",
    "\n",
    "print(\"New dataset has been created and saved in:\", output_dir)"
   ]
  }
 ],
 "metadata": {
  "kernelspec": {
   "display_name": ".venv (3.11.5)",
   "language": "python",
   "name": "python3"
  },
  "language_info": {
   "codemirror_mode": {
    "name": "ipython",
    "version": 3
   },
   "file_extension": ".py",
   "mimetype": "text/x-python",
   "name": "python",
   "nbconvert_exporter": "python",
   "pygments_lexer": "ipython3",
   "version": "3.11.5"
  }
 },
 "nbformat": 4,
 "nbformat_minor": 5
}
