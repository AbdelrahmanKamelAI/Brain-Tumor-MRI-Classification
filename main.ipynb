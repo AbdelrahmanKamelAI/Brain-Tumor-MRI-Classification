{
 "cells": [
  {
   "cell_type": "markdown",
   "id": "82721c91",
   "metadata": {},
   "source": [
    "# Import required libraries"
   ]
  },
  {
   "cell_type": "code",
   "execution_count": 1,
   "id": "91e270bc",
   "metadata": {},
   "outputs": [],
   "source": [
    "import os\n",
    "import cv2\n",
    "import warnings\n",
    "import itertools\n",
    "import numpy as np\n",
    "import pandas as pd\n",
    "import seaborn as sns\n",
    "import tensorflow as tf\n",
    "from tensorflow import keras\n",
    "import matplotlib.pyplot as plt\n",
    "from tensorflow.keras.optimizers import Adamax\n",
    "from sklearn.model_selection import train_test_split\n",
    "from tensorflow.keras.models import Model, Sequential\n",
    "from tensorflow.keras.applications import InceptionResNetV2\n",
    "from sklearn.utils.class_weight import compute_class_weight\n",
    "from sklearn.metrics import classification_report, confusion_matrix\n",
    "from tensorflow.keras.preprocessing.image import ImageDataGenerator\n",
    "from tensorflow.keras.callbacks import EarlyStopping, ModelCheckpoint, ReduceLROnPlateau\n",
    "from tensorflow.keras.layers import Conv2D, MaxPooling2D, Flatten, Dense, Dropout, BatchNormalization\n",
    "warnings.filterwarnings('ignore')"
   ]
  },
  {
   "cell_type": "markdown",
   "id": "966399bf",
   "metadata": {},
   "source": [
    "# prepare_dataset"
   ]
  },
  {
   "cell_type": "code",
   "execution_count": 2,
   "id": "3eb0489d",
   "metadata": {},
   "outputs": [
    {
     "data": {
      "text/html": [
       "<div>\n",
       "<style scoped>\n",
       "    .dataframe tbody tr th:only-of-type {\n",
       "        vertical-align: middle;\n",
       "    }\n",
       "\n",
       "    .dataframe tbody tr th {\n",
       "        vertical-align: top;\n",
       "    }\n",
       "\n",
       "    .dataframe thead th {\n",
       "        text-align: right;\n",
       "    }\n",
       "</style>\n",
       "<table border=\"1\" class=\"dataframe\">\n",
       "  <thead>\n",
       "    <tr style=\"text-align: right;\">\n",
       "      <th></th>\n",
       "      <th>filepaths</th>\n",
       "      <th>labels</th>\n",
       "    </tr>\n",
       "  </thead>\n",
       "  <tbody>\n",
       "    <tr>\n",
       "      <th>0</th>\n",
       "      <td>dataset\\no\\aug_0_1000.jpg</td>\n",
       "      <td>no</td>\n",
       "    </tr>\n",
       "    <tr>\n",
       "      <th>1</th>\n",
       "      <td>dataset\\no\\aug_0_1013.jpg</td>\n",
       "      <td>no</td>\n",
       "    </tr>\n",
       "    <tr>\n",
       "      <th>2</th>\n",
       "      <td>dataset\\no\\aug_0_1015.jpg</td>\n",
       "      <td>no</td>\n",
       "    </tr>\n",
       "    <tr>\n",
       "      <th>3</th>\n",
       "      <td>dataset\\no\\aug_0_1017.jpg</td>\n",
       "      <td>no</td>\n",
       "    </tr>\n",
       "    <tr>\n",
       "      <th>4</th>\n",
       "      <td>dataset\\no\\aug_0_1020.jpg</td>\n",
       "      <td>no</td>\n",
       "    </tr>\n",
       "    <tr>\n",
       "      <th>...</th>\n",
       "      <td>...</td>\n",
       "      <td>...</td>\n",
       "    </tr>\n",
       "    <tr>\n",
       "      <th>2849</th>\n",
       "      <td>dataset\\yes\\aug_0_9959.jpg</td>\n",
       "      <td>yes</td>\n",
       "    </tr>\n",
       "    <tr>\n",
       "      <th>2850</th>\n",
       "      <td>dataset\\yes\\aug_0_9975.jpg</td>\n",
       "      <td>yes</td>\n",
       "    </tr>\n",
       "    <tr>\n",
       "      <th>2851</th>\n",
       "      <td>dataset\\yes\\aug_0_9976.jpg</td>\n",
       "      <td>yes</td>\n",
       "    </tr>\n",
       "    <tr>\n",
       "      <th>2852</th>\n",
       "      <td>dataset\\yes\\aug_0_9984.jpg</td>\n",
       "      <td>yes</td>\n",
       "    </tr>\n",
       "    <tr>\n",
       "      <th>2853</th>\n",
       "      <td>dataset\\yes\\aug_0_9989.jpg</td>\n",
       "      <td>yes</td>\n",
       "    </tr>\n",
       "  </tbody>\n",
       "</table>\n",
       "<p>2854 rows × 2 columns</p>\n",
       "</div>"
      ],
      "text/plain": [
       "                       filepaths labels\n",
       "0      dataset\\no\\aug_0_1000.jpg     no\n",
       "1      dataset\\no\\aug_0_1013.jpg     no\n",
       "2      dataset\\no\\aug_0_1015.jpg     no\n",
       "3      dataset\\no\\aug_0_1017.jpg     no\n",
       "4      dataset\\no\\aug_0_1020.jpg     no\n",
       "...                          ...    ...\n",
       "2849  dataset\\yes\\aug_0_9959.jpg    yes\n",
       "2850  dataset\\yes\\aug_0_9975.jpg    yes\n",
       "2851  dataset\\yes\\aug_0_9976.jpg    yes\n",
       "2852  dataset\\yes\\aug_0_9984.jpg    yes\n",
       "2853  dataset\\yes\\aug_0_9989.jpg    yes\n",
       "\n",
       "[2854 rows x 2 columns]"
      ]
     },
     "execution_count": 2,
     "metadata": {},
     "output_type": "execute_result"
    }
   ],
   "source": [
    "# Define the path to the training dataset\n",
    "data_train = r\"dataset\"\n",
    "\n",
    "# Create empty lists to hold image paths and their corresponding labels\n",
    "filepaths = []\n",
    "labels = []\n",
    "\n",
    "# Loop over each label/class directory inside the training path\n",
    "for label_name in os.listdir(data_train):\n",
    "    class_folder = os.path.join(data_train, label_name)\n",
    "    if os.path.isdir(class_folder):  # Ensure it's a folder\n",
    "        # Loop over each image file in the class directory\n",
    "        for filename in os.listdir(class_folder):\n",
    "            image_path = os.path.join(class_folder, filename)\n",
    "            \n",
    "            # Append the image path and label to the respective lists\n",
    "            filepaths.append(image_path)\n",
    "            labels.append(label_name)\n",
    "\n",
    "# Combine the file paths and labels into a Pandas DataFrame\n",
    "data = pd.DataFrame({\n",
    "    'filepaths': filepaths,\n",
    "    'labels': labels\n",
    "})\n",
    "\n",
    "# Output the DataFrame to verify the data structure\n",
    "data"
   ]
  },
  {
   "cell_type": "code",
   "execution_count": 3,
   "id": "8bf8da92",
   "metadata": {},
   "outputs": [
    {
     "name": "stdout",
     "output_type": "stream",
     "text": [
      "2854\n",
      "2854\n"
     ]
    }
   ],
   "source": [
    "print(len(filepaths))\n",
    "print(len(labels))"
   ]
  },
  {
   "cell_type": "code",
   "execution_count": 4,
   "id": "98b0edd7",
   "metadata": {},
   "outputs": [
    {
     "name": "stdout",
     "output_type": "stream",
     "text": [
      "yes\n"
     ]
    }
   ],
   "source": [
    "print(labels[-1])"
   ]
  },
  {
   "cell_type": "code",
   "execution_count": 5,
   "id": "50eb8da7",
   "metadata": {},
   "outputs": [
    {
     "data": {
      "image/png": "[encoded data removed]",
      "text/plain": [
       "<Figure size 640x480 with 1 Axes>"
      ]
     },
     "metadata": {},
     "output_type": "display_data"
    }
   ],
   "source": [
    "color = ['#9AA6B2','#BCCCDC','#D9EAFD','#F8FAFC']\n",
    "label_counts = data['labels'].value_counts()\n",
    "fig, ax = plt.subplots()\n",
    "bars = ax.bar(label_counts.index, label_counts.values,color=color)\n",
    "ax.bar_label(bars)\n",
    "plt.title('Number of images in each category')\n",
    "plt.xlabel('Category')\n",
    "plt.ylabel('Number of images')\n",
    "plt.xticks(rotation=45)\n",
    "\n",
    "plt.show()"
   ]
  },
  {
   "cell_type": "code",
   "execution_count": 6,
   "id": "2e77efae",
   "metadata": {},
   "outputs": [
    {
     "name": "stdout",
     "output_type": "stream",
     "text": [
      "['no' 'yes']\n"
     ]
    }
   ],
   "source": [
    "print(np.unique(labels))"
   ]
  },
  {
   "cell_type": "markdown",
   "id": "636dcca2",
   "metadata": {},
   "source": [
    "# Split data into train, test, valid¶"
   ]
  },
  {
   "cell_type": "code",
   "execution_count": 7,
   "id": "7d71d1fa",
   "metadata": {},
   "outputs": [],
   "source": [
    "train_df, temp_df = train_test_split(data, test_size=0.2, random_state=42, stratify=data['labels'])"
   ]
  },
  {
   "cell_type": "code",
   "execution_count": 8,
   "id": "5fa97782",
   "metadata": {},
   "outputs": [],
   "source": [
    "valid_df, test_df = train_test_split(temp_df, test_size=0.5, random_state=42, stratify=temp_df['labels'])"
   ]
  },
  {
   "cell_type": "code",
   "execution_count": 9,
   "id": "15804bf0",
   "metadata": {},
   "outputs": [
    {
     "name": "stdout",
     "output_type": "stream",
     "text": [
      "Train size: 2283\n",
      "Validation size: 285\n",
      "Test size: 286\n"
     ]
    }
   ],
   "source": [
    "print(\"Train size:\", len(train_df))\n",
    "print(\"Validation size:\", len(valid_df))\n",
    "print(\"Test size:\", len(test_df))"
   ]
  },
  {
   "cell_type": "code",
   "execution_count": 10,
   "id": "497ee902",
   "metadata": {},
   "outputs": [
    {
     "name": "stdout",
     "output_type": "stream",
     "text": [
      "Class Weights: {'no': np.float64(1.0007012622720897), 'yes': np.float64(0.9992997198879552)}\n"
     ]
    }
   ],
   "source": [
    "class_weights = compute_class_weight(\n",
    "    class_weight='balanced',\n",
    "    classes=np.unique(data['labels']),\n",
    "    y=data['labels']\n",
    ")\n",
    "class_weights_dict = dict(zip(np.unique(data['labels']), class_weights))\n",
    "print(\"Class Weights:\", class_weights_dict)"
   ]
  },
  {
   "cell_type": "markdown",
   "id": "087ee64f",
   "metadata": {},
   "source": [
    "# data_generators"
   ]
  },
  {
   "cell_type": "code",
   "execution_count": 11,
   "id": "66ab7d92",
   "metadata": {},
   "outputs": [
    {
     "name": "stdout",
     "output_type": "stream",
     "text": [
      "Found 2283 validated image filenames belonging to 2 classes.\n",
      "Found 285 validated image filenames belonging to 2 classes.\n",
      "Found 286 validated image filenames belonging to 2 classes.\n"
     ]
    }
   ],
   "source": [
    "# Define the data augmentation strategy for training and validation sets\n",
    "datagen = ImageDataGenerator(\n",
    "    rescale=1.0 / 255,           # Normalize pixel values to [0, 1]\n",
    "    rotation_range=30,         # Random rotation in degrees\n",
    "    width_shift_range=0.2,       # Random horizontal shift\n",
    "    height_shift_range=0.2,      # Random vertical shift\n",
    "    shear_range=0.2,             # Shear intensity\n",
    "    zoom_range=0.2,              # Random zoom\n",
    "    horizontal_flip=True,        # Random horizontal flip\n",
    "    fill_mode='nearest'\n",
    ")\n",
    "\n",
    "# Apply augmentation to training dataset\n",
    "train_generator = datagen.flow_from_dataframe(\n",
    "    train_df,\n",
    "    x_col='filepaths',           # Column with image paths\n",
    "    y_col='labels',              # Column with class labels\n",
    "    target_size=(224, 224),      # Resize images to 224x224\n",
    "    batch_size=16,\n",
    "    color_mode='rgb',            # Use RGB color space\n",
    "    class_mode='categorical'     # For multi-class classification\n",
    ")\n",
    "\n",
    "# Apply same augmentation to validation dataset\n",
    "validation_generator = datagen.flow_from_dataframe(\n",
    "    valid_df,\n",
    "    x_col='filepaths',\n",
    "    y_col='labels',\n",
    "    target_size=(224, 224),\n",
    "    batch_size=16,\n",
    "    color_mode='rgb',\n",
    "    class_mode='categorical'\n",
    ")\n",
    "\n",
    "# Define a separate generator for test data (no augmentation, only rescaling)\n",
    "test_datagen = ImageDataGenerator(rescale=1.0 / 255)\n",
    "\n",
    "# Load test images using the test generator\n",
    "test_generator = test_datagen.flow_from_dataframe(\n",
    "    dataframe=test_df,\n",
    "    x_col='filepaths',\n",
    "    y_col='labels',\n",
    "    target_size=(224, 224),\n",
    "    batch_size=16,\n",
    "    color_mode='rgb',\n",
    "    shuffle=False,\n",
    "    class_mode='categorical'\n",
    ")"
   ]
  },
  {
   "cell_type": "markdown",
   "id": "5afc44e5",
   "metadata": {},
   "source": [
    "# CNN_model_setup"
   ]
  },
  {
   "cell_type": "code",
   "execution_count": null,
   "id": "5843a6ad",
   "metadata": {},
   "outputs": [],
   "source": [
    "# Define CNN model\n",
    "model_CNN  = Sequential([\n",
    "    Conv2D(64, kernel_size= (3,3), activation='relu', input_shape=(224,224,3)), # Conv layer\n",
    "    Conv2D(64, kernel_size= (3,3), activation='relu'),\n",
    "    MaxPooling2D((2,2)),\n",
    "\n",
    "    Conv2D(128, kernel_size= (3,3), activation='relu'),\n",
    "    Conv2D(128, kernel_size= (3,3), activation='relu'),\n",
    "    MaxPooling2D((2,2)),\n",
    "\n",
    "    Conv2D(256, kernel_size= (3,3), activation='relu'),\n",
    "    Conv2D(256, kernel_size= (3,3), activation='relu'),\n",
    "    MaxPooling2D((2,2)),\n",
    "\n",
    "    Flatten(),                         # Flatten to 1D\n",
    "    Dense(256, activation='relu'),\n",
    "    Dense(64, activation='relu'),\n",
    "    Dropout(0.2),                      # Reduce overfitting\n",
    "    Dense(2, activation='softmax') ])\n",
    "# Compile the model\n",
    "model_CNN .compile(\n",
    "    optimizer=Adamax(learning_rate=0.001),\n",
    "    loss='categorical_crossentropy',\n",
    "    metrics=['accuracy']\n",
    ")\n",
    "# Show model summary\n",
    "model_CNN .summary()"
   ]
  },
  {
   "cell_type": "markdown",
   "id": "1468bacc",
   "metadata": {},
   "source": [
    "# pre_trained_model_setup"
   ]
  },
  {
   "cell_type": "code",
   "execution_count": 13,
   "id": "44601c6c",
   "metadata": {},
   "outputs": [
    {
     "name": "stdout",
     "output_type": "stream",
     "text": [
      "WARNING:tensorflow:From c:\\Users\\kabde\\Desktop\\ITI project\\Brain Tumor MRI Classification\\.venv\\Lib\\site-packages\\keras\\src\\backend\\tensorflow\\core.py:232: The name tf.placeholder is deprecated. Please use tf.compat.v1.placeholder instead.\n",
      "\n"
     ]
    },
    {
     "data": {
      "text/html": [
       "<pre style=\"white-space:pre;overflow-x:auto;line-height:normal;font-family:Menlo,'DejaVu Sans Mono',consolas,'Courier New',monospace\"><span style=\"font-weight: bold\">Model: \"sequential\"</span>\n",
       "</pre>\n"
      ],
      "text/plain": [
       "\u001b[1mModel: \"sequential\"\u001b[0m\n"
      ]
     },
     "metadata": {},
     "output_type": "display_data"
    },
    {
     "data": {
      "text/html": [
       "<pre style=\"white-space:pre;overflow-x:auto;line-height:normal;font-family:Menlo,'DejaVu Sans Mono',consolas,'Courier New',monospace\">┏━━━━━━━━━━━━━━━━━━━━━━━━━━━━━━━━━┳━━━━━━━━━━━━━━━━━━━━━━━━┳━━━━━━━━━━━━━━━┓\n",
       "┃<span style=\"font-weight: bold\"> Layer (type)                    </span>┃<span style=\"font-weight: bold\"> Output Shape           </span>┃<span style=\"font-weight: bold\">       Param # </span>┃\n",
       "┡━━━━━━━━━━━━━━━━━━━━━━━━━━━━━━━━━╇━━━━━━━━━━━━━━━━━━━━━━━━╇━━━━━━━━━━━━━━━┩\n",
       "│ inception_resnet_v2             │ (<span style=\"color: #00d7ff; text-decoration-color: #00d7ff\">None</span>, <span style=\"color: #00af00; text-decoration-color: #00af00\">1536</span>)           │    <span style=\"color: #00af00; text-decoration-color: #00af00\">54,336,736</span> │\n",
       "│ (<span style=\"color: #0087ff; text-decoration-color: #0087ff\">Functional</span>)                    │                        │               │\n",
       "├─────────────────────────────────┼────────────────────────┼───────────────┤\n",
       "│ flatten (<span style=\"color: #0087ff; text-decoration-color: #0087ff\">Flatten</span>)               │ (<span style=\"color: #00d7ff; text-decoration-color: #00d7ff\">None</span>, <span style=\"color: #00af00; text-decoration-color: #00af00\">1536</span>)           │             <span style=\"color: #00af00; text-decoration-color: #00af00\">0</span> │\n",
       "├─────────────────────────────────┼────────────────────────┼───────────────┤\n",
       "│ dense (<span style=\"color: #0087ff; text-decoration-color: #0087ff\">Dense</span>)                   │ (<span style=\"color: #00d7ff; text-decoration-color: #00d7ff\">None</span>, <span style=\"color: #00af00; text-decoration-color: #00af00\">512</span>)            │       <span style=\"color: #00af00; text-decoration-color: #00af00\">786,944</span> │\n",
       "├─────────────────────────────────┼────────────────────────┼───────────────┤\n",
       "│ dense_1 (<span style=\"color: #0087ff; text-decoration-color: #0087ff\">Dense</span>)                 │ (<span style=\"color: #00d7ff; text-decoration-color: #00d7ff\">None</span>, <span style=\"color: #00af00; text-decoration-color: #00af00\">256</span>)            │       <span style=\"color: #00af00; text-decoration-color: #00af00\">131,328</span> │\n",
       "├─────────────────────────────────┼────────────────────────┼───────────────┤\n",
       "│ dense_2 (<span style=\"color: #0087ff; text-decoration-color: #0087ff\">Dense</span>)                 │ (<span style=\"color: #00d7ff; text-decoration-color: #00d7ff\">None</span>, <span style=\"color: #00af00; text-decoration-color: #00af00\">128</span>)            │        <span style=\"color: #00af00; text-decoration-color: #00af00\">32,896</span> │\n",
       "├─────────────────────────────────┼────────────────────────┼───────────────┤\n",
       "│ dense_3 (<span style=\"color: #0087ff; text-decoration-color: #0087ff\">Dense</span>)                 │ (<span style=\"color: #00d7ff; text-decoration-color: #00d7ff\">None</span>, <span style=\"color: #00af00; text-decoration-color: #00af00\">64</span>)             │         <span style=\"color: #00af00; text-decoration-color: #00af00\">8,256</span> │\n",
       "├─────────────────────────────────┼────────────────────────┼───────────────┤\n",
       "│ dense_4 (<span style=\"color: #0087ff; text-decoration-color: #0087ff\">Dense</span>)                 │ (<span style=\"color: #00d7ff; text-decoration-color: #00d7ff\">None</span>, <span style=\"color: #00af00; text-decoration-color: #00af00\">32</span>)             │         <span style=\"color: #00af00; text-decoration-color: #00af00\">2,080</span> │\n",
       "├─────────────────────────────────┼────────────────────────┼───────────────┤\n",
       "│ dense_5 (<span style=\"color: #0087ff; text-decoration-color: #0087ff\">Dense</span>)                 │ (<span style=\"color: #00d7ff; text-decoration-color: #00d7ff\">None</span>, <span style=\"color: #00af00; text-decoration-color: #00af00\">2</span>)              │            <span style=\"color: #00af00; text-decoration-color: #00af00\">66</span> │\n",
       "└─────────────────────────────────┴────────────────────────┴───────────────┘\n",
       "</pre>\n"
      ],
      "text/plain": [
       "┏━━━━━━━━━━━━━━━━━━━━━━━━━━━━━━━━━┳━━━━━━━━━━━━━━━━━━━━━━━━┳━━━━━━━━━━━━━━━┓\n",
       "┃\u001b[1m \u001b[0m\u001b[1mLayer (type)                   \u001b[0m\u001b[1m \u001b[0m┃\u001b[1m \u001b[0m\u001b[1mOutput Shape          \u001b[0m\u001b[1m \u001b[0m┃\u001b[1m \u001b[0m\u001b[1m      Param #\u001b[0m\u001b[1m \u001b[0m┃\n",
       "┡━━━━━━━━━━━━━━━━━━━━━━━━━━━━━━━━━╇━━━━━━━━━━━━━━━━━━━━━━━━╇━━━━━━━━━━━━━━━┩\n",
       "│ inception_resnet_v2             │ (\u001b[38;5;45mNone\u001b[0m, \u001b[38;5;34m1536\u001b[0m)           │    \u001b[38;5;34m54,336,736\u001b[0m │\n",
       "│ (\u001b[38;5;33mFunctional\u001b[0m)                    │                        │               │\n",
       "├─────────────────────────────────┼────────────────────────┼───────────────┤\n",
       "│ flatten (\u001b[38;5;33mFlatten\u001b[0m)               │ (\u001b[38;5;45mNone\u001b[0m, \u001b[38;5;34m1536\u001b[0m)           │             \u001b[38;5;34m0\u001b[0m │\n",
       "├─────────────────────────────────┼────────────────────────┼───────────────┤\n",
       "│ dense (\u001b[38;5;33mDense\u001b[0m)                   │ (\u001b[38;5;45mNone\u001b[0m, \u001b[38;5;34m512\u001b[0m)            │       \u001b[38;5;34m786,944\u001b[0m │\n",
       "├─────────────────────────────────┼────────────────────────┼───────────────┤\n",
       "│ dense_1 (\u001b[38;5;33mDense\u001b[0m)                 │ (\u001b[38;5;45mNone\u001b[0m, \u001b[38;5;34m256\u001b[0m)            │       \u001b[38;5;34m131,328\u001b[0m │\n",
       "├─────────────────────────────────┼────────────────────────┼───────────────┤\n",
       "│ dense_2 (\u001b[38;5;33mDense\u001b[0m)                 │ (\u001b[38;5;45mNone\u001b[0m, \u001b[38;5;34m128\u001b[0m)            │        \u001b[38;5;34m32,896\u001b[0m │\n",
       "├─────────────────────────────────┼────────────────────────┼───────────────┤\n",
       "│ dense_3 (\u001b[38;5;33mDense\u001b[0m)                 │ (\u001b[38;5;45mNone\u001b[0m, \u001b[38;5;34m64\u001b[0m)             │         \u001b[38;5;34m8,256\u001b[0m │\n",
       "├─────────────────────────────────┼────────────────────────┼───────────────┤\n",
       "│ dense_4 (\u001b[38;5;33mDense\u001b[0m)                 │ (\u001b[38;5;45mNone\u001b[0m, \u001b[38;5;34m32\u001b[0m)             │         \u001b[38;5;34m2,080\u001b[0m │\n",
       "├─────────────────────────────────┼────────────────────────┼───────────────┤\n",
       "│ dense_5 (\u001b[38;5;33mDense\u001b[0m)                 │ (\u001b[38;5;45mNone\u001b[0m, \u001b[38;5;34m2\u001b[0m)              │            \u001b[38;5;34m66\u001b[0m │\n",
       "└─────────────────────────────────┴────────────────────────┴───────────────┘\n"
      ]
     },
     "metadata": {},
     "output_type": "display_data"
    },
    {
     "data": {
      "text/html": [
       "<pre style=\"white-space:pre;overflow-x:auto;line-height:normal;font-family:Menlo,'DejaVu Sans Mono',consolas,'Courier New',monospace\"><span style=\"font-weight: bold\"> Total params: </span><span style=\"color: #00af00; text-decoration-color: #00af00\">55,298,306</span> (210.95 MB)\n",
       "</pre>\n"
      ],
      "text/plain": [
       "\u001b[1m Total params: \u001b[0m\u001b[38;5;34m55,298,306\u001b[0m (210.95 MB)\n"
      ]
     },
     "metadata": {},
     "output_type": "display_data"
    },
    {
     "data": {
      "text/html": [
       "<pre style=\"white-space:pre;overflow-x:auto;line-height:normal;font-family:Menlo,'DejaVu Sans Mono',consolas,'Courier New',monospace\"><span style=\"font-weight: bold\"> Trainable params: </span><span style=\"color: #00af00; text-decoration-color: #00af00\">961,570</span> (3.67 MB)\n",
       "</pre>\n"
      ],
      "text/plain": [
       "\u001b[1m Trainable params: \u001b[0m\u001b[38;5;34m961,570\u001b[0m (3.67 MB)\n"
      ]
     },
     "metadata": {},
     "output_type": "display_data"
    },
    {
     "data": {
      "text/html": [
       "<pre style=\"white-space:pre;overflow-x:auto;line-height:normal;font-family:Menlo,'DejaVu Sans Mono',consolas,'Courier New',monospace\"><span style=\"font-weight: bold\"> Non-trainable params: </span><span style=\"color: #00af00; text-decoration-color: #00af00\">54,336,736</span> (207.28 MB)\n",
       "</pre>\n"
      ],
      "text/plain": [
       "\u001b[1m Non-trainable params: \u001b[0m\u001b[38;5;34m54,336,736\u001b[0m (207.28 MB)\n"
      ]
     },
     "metadata": {},
     "output_type": "display_data"
    }
   ],
   "source": [
    "# Load the base model with ImageNet weights, excluding the top classification layer\n",
    "base_model = InceptionResNetV2(\n",
    "    include_top=False,              # Exclude the fully-connected layers at the top\n",
    "    weights=\"imagenet\",             # Load pretrained weights from ImageNet\n",
    "    input_shape=(224, 224, 3),      # Input image shape\n",
    "    pooling=\"max\" ,                   # Apply global max pooling after the convolutional base)       \n",
    "    classes=1000, \n",
    "    input_tensor=None,\n",
    "    classifier_activation=\"softmax\",)\n",
    "\n",
    "# Freeze base model layers first (for feature extraction phase)\n",
    "base_model.trainable = False\n",
    "# Define the final model architecture on top of the pre-trained base model\n",
    "model_transfer = Sequential([\n",
    "     base_model,                      # Frozen base model for feature extraction\n",
    "    Flatten(),                       # Flatten output of the base model\n",
    "    Dense(512, activation='relu'),   # Dense hidden layers for learning patterns\n",
    "    Dense(256, activation='relu'),\n",
    "    Dense(128, activation='relu'),\n",
    "    Dense(64, activation='relu'),\n",
    "    Dense(32, activation='relu'),\n",
    "    Dense(2, activation='softmax')   # Output layer for 2-class classification\n",
    "])\n",
    "\n",
    "# Compile the model with Adamax optimizer and categorical crossentropy loss\n",
    "model_transfer.compile(\n",
    "    optimizer=Adamax(learning_rate=0.0001),  # Optimizer with learning rate\n",
    "    loss='categorical_crossentropy',         # Suitable for one-hot encoded labels\n",
    "    metrics=['accuracy']                     # Track accuracy during training\n",
    ")\n",
    "\n",
    "# Print the model summary to check architecture and parameters\n",
    "model_transfer.summary()"
   ]
  },
  {
   "cell_type": "markdown",
   "id": "1f156b54",
   "metadata": {},
   "source": [
    "# Early stopping after 10 epochs without improvement in validation loss"
   ]
  },
  {
   "cell_type": "code",
   "execution_count": 14,
   "id": "7a5a97f5",
   "metadata": {},
   "outputs": [],
   "source": [
    "# Set up EarlyStopping to monitor validation loss\n",
    "early_stopping = EarlyStopping(\n",
    "    monitor='val_loss',             # Stop training when validation loss stops improving\n",
    "    patience=10,                     # Wait for 10 epochs before stopping\n",
    "    restore_best_weights=True       # Roll back to the best weights observed during training\n",
    ")"
   ]
  },
  {
   "cell_type": "markdown",
   "id": "eb5671fa",
   "metadata": {},
   "source": [
    "# Save only the best performing model based on validation accuracy"
   ]
  },
  {
   "cell_type": "code",
   "execution_count": null,
   "id": "80501715",
   "metadata": {},
   "outputs": [],
   "source": [
    "cnn_checkpoint = ModelCheckpoint(\n",
    "    filepath='best_cnn_model.keras', # Save model in Keras format\n",
    "    monitor='val_accuracy',          # Monitor validation accuracy\n",
    "    save_best_only=True,             # Save only when the model improves\n",
    "    mode='max',                      # Higher accuracy is better\n",
    "    save_weights_only=False,         # Save full model (not just weights)\n",
    "    verbose=1                        # Output message when model is saved\n",
    ")"
   ]
  },
  {
   "cell_type": "code",
   "execution_count": 16,
   "id": "1dece211",
   "metadata": {},
   "outputs": [],
   "source": [
    "transfer_checkpoint = ModelCheckpoint(\n",
    "    filepath='best_transfer_model.keras', # Save model in Keras format\n",
    "    monitor='val_accuracy',               # Monitor validation accuracy\n",
    "    save_best_only=True,                  # Save only when the model improves\n",
    "    mode='max',                           # Higher accuracy is better\n",
    "    save_weights_only=False,              # Save full model (not just weights)\n",
    "    verbose=1                             # Output message when model is saved\n",
    ")"
   ]
  },
  {
   "cell_type": "markdown",
   "id": "88e78138",
   "metadata": {},
   "source": [
    "# Reduce learning rate if validation loss plateaus for 10 epochs"
   ]
  },
  {
   "cell_type": "code",
   "execution_count": 17,
   "id": "5d927583",
   "metadata": {},
   "outputs": [],
   "source": [
    "# Reduce learning rate when the validation loss stops improving\n",
    "reduce_lr = ReduceLROnPlateau(\n",
    "    monitor='val_loss',     # Monitor validation loss\n",
    "    factor=0.1,             # Reduce LR by 10x when triggered\n",
    "    patience=10,             # Number of epochs with no improvement before reduction\n",
    "    verbose=1               # Log the LR change\n",
    ")"
   ]
  },
  {
   "cell_type": "markdown",
   "id": "d8a6a3a7",
   "metadata": {},
   "source": [
    "# Train the model with callbacks for early stopping, checkpointing, and learning rate scheduling"
   ]
  },
  {
   "cell_type": "code",
   "execution_count": null,
   "id": "d9f4fe26",
   "metadata": {},
   "outputs": [],
   "source": [
    " # Train the model with training and validation data generators\n",
    "# Includes early stopping, learning rate reduction, and best model checkpointing\n",
    "history_CNN = model_CNN.fit(\n",
    "    train_generator,\n",
    "    validation_data=validation_generator,\n",
    "    epochs=50,  # Set to a higher value (e.g. 10–50) for actual training\n",
    "    callbacks=[\n",
    "        early_stopping,\n",
    "        cnn_checkpoint,\n",
    "        reduce_lr\n",
    "    ],\n",
    "    class_weight=class_weights_dict,\n",
    "    verbose=1\n",
    ")"
   ]
  },
  {
   "cell_type": "code",
   "execution_count": 19,
   "id": "8adc2293",
   "metadata": {},
   "outputs": [
    {
     "name": "stdout",
     "output_type": "stream",
     "text": [
      "Epoch 1/20\n",
      "\u001b[1m143/143\u001b[0m \u001b[32m━━━━━━━━━━━━━━━━━━━━\u001b[0m\u001b[37m\u001b[0m \u001b[1m0s\u001b[0m 468ms/step - accuracy: 0.6691 - loss: 0.6148\n",
      "Epoch 1: val_accuracy improved from None to 0.76842, saving model to best_transfer_model.keras\n",
      "\u001b[1m143/143\u001b[0m \u001b[32m━━━━━━━━━━━━━━━━━━━━\u001b[0m\u001b[37m\u001b[0m \u001b[1m92s\u001b[0m 568ms/step - accuracy: 0.7249 - loss: 0.5501 - val_accuracy: 0.7684 - val_loss: 0.4954 - learning_rate: 1.0000e-04\n",
      "Epoch 2/20\n",
      "\u001b[1m143/143\u001b[0m \u001b[32m━━━━━━━━━━━━━━━━━━━━\u001b[0m\u001b[37m\u001b[0m \u001b[1m0s\u001b[0m 469ms/step - accuracy: 0.8020 - loss: 0.4430\n",
      "Epoch 2: val_accuracy did not improve from 0.76842\n",
      "\u001b[1m143/143\u001b[0m \u001b[32m━━━━━━━━━━━━━━━━━━━━\u001b[0m\u001b[37m\u001b[0m \u001b[1m76s\u001b[0m 528ms/step - accuracy: 0.8134 - loss: 0.4263 - val_accuracy: 0.7579 - val_loss: 0.4619 - learning_rate: 1.0000e-04\n",
      "Epoch 3/20\n",
      "\u001b[1m143/143\u001b[0m \u001b[32m━━━━━━━━━━━━━━━━━━━━\u001b[0m\u001b[37m\u001b[0m \u001b[1m0s\u001b[0m 473ms/step - accuracy: 0.8172 - loss: 0.4067\n",
      "Epoch 3: val_accuracy improved from 0.76842 to 0.82456, saving model to best_transfer_model.keras\n",
      "\u001b[1m143/143\u001b[0m \u001b[32m━━━━━━━━━━━━━━━━━━━━\u001b[0m\u001b[37m\u001b[0m \u001b[1m78s\u001b[0m 545ms/step - accuracy: 0.8340 - loss: 0.3853 - val_accuracy: 0.8246 - val_loss: 0.4335 - learning_rate: 1.0000e-04\n",
      "Epoch 4/20\n",
      "\u001b[1m143/143\u001b[0m \u001b[32m━━━━━━━━━━━━━━━━━━━━\u001b[0m\u001b[37m\u001b[0m \u001b[1m0s\u001b[0m 472ms/step - accuracy: 0.8418 - loss: 0.3647\n",
      "Epoch 4: val_accuracy did not improve from 0.82456\n",
      "\u001b[1m143/143\u001b[0m \u001b[32m━━━━━━━━━━━━━━━━━━━━\u001b[0m\u001b[37m\u001b[0m \u001b[1m76s\u001b[0m 532ms/step - accuracy: 0.8467 - loss: 0.3560 - val_accuracy: 0.8070 - val_loss: 0.4274 - learning_rate: 1.0000e-04\n",
      "Epoch 5/20\n",
      "\u001b[1m143/143\u001b[0m \u001b[32m━━━━━━━━━━━━━━━━━━━━\u001b[0m\u001b[37m\u001b[0m \u001b[1m0s\u001b[0m 475ms/step - accuracy: 0.8530 - loss: 0.3395\n",
      "Epoch 5: val_accuracy did not improve from 0.82456\n",
      "\u001b[1m143/143\u001b[0m \u001b[32m━━━━━━━━━━━━━━━━━━━━\u001b[0m\u001b[37m\u001b[0m \u001b[1m77s\u001b[0m 535ms/step - accuracy: 0.8559 - loss: 0.3316 - val_accuracy: 0.8140 - val_loss: 0.3689 - learning_rate: 1.0000e-04\n",
      "Epoch 6/20\n",
      "\u001b[1m143/143\u001b[0m \u001b[32m━━━━━━━━━━━━━━━━━━━━\u001b[0m\u001b[37m\u001b[0m \u001b[1m0s\u001b[0m 473ms/step - accuracy: 0.8494 - loss: 0.3307\n",
      "Epoch 6: val_accuracy improved from 0.82456 to 0.85263, saving model to best_transfer_model.keras\n",
      "\u001b[1m143/143\u001b[0m \u001b[32m━━━━━━━━━━━━━━━━━━━━\u001b[0m\u001b[37m\u001b[0m \u001b[1m78s\u001b[0m 545ms/step - accuracy: 0.8611 - loss: 0.3163 - val_accuracy: 0.8526 - val_loss: 0.3320 - learning_rate: 1.0000e-04\n",
      "Epoch 7/20\n",
      "\u001b[1m143/143\u001b[0m \u001b[32m━━━━━━━━━━━━━━━━━━━━\u001b[0m\u001b[37m\u001b[0m \u001b[1m0s\u001b[0m 478ms/step - accuracy: 0.8686 - loss: 0.3143\n",
      "Epoch 7: val_accuracy improved from 0.85263 to 0.88070, saving model to best_transfer_model.keras\n",
      "\u001b[1m143/143\u001b[0m \u001b[32m━━━━━━━━━━━━━━━━━━━━\u001b[0m\u001b[37m\u001b[0m \u001b[1m79s\u001b[0m 550ms/step - accuracy: 0.8725 - loss: 0.3017 - val_accuracy: 0.8807 - val_loss: 0.2968 - learning_rate: 1.0000e-04\n",
      "Epoch 8/20\n",
      "\u001b[1m143/143\u001b[0m \u001b[32m━━━━━━━━━━━━━━━━━━━━\u001b[0m\u001b[37m\u001b[0m \u001b[1m0s\u001b[0m 475ms/step - accuracy: 0.8874 - loss: 0.2807\n",
      "Epoch 8: val_accuracy did not improve from 0.88070\n",
      "\u001b[1m143/143\u001b[0m \u001b[32m━━━━━━━━━━━━━━━━━━━━\u001b[0m\u001b[37m\u001b[0m \u001b[1m76s\u001b[0m 533ms/step - accuracy: 0.8817 - loss: 0.2882 - val_accuracy: 0.8386 - val_loss: 0.3604 - learning_rate: 1.0000e-04\n",
      "Epoch 9/20\n",
      "\u001b[1m143/143\u001b[0m \u001b[32m━━━━━━━━━━━━━━━━━━━━\u001b[0m\u001b[37m\u001b[0m \u001b[1m0s\u001b[0m 472ms/step - accuracy: 0.8825 - loss: 0.2700\n",
      "Epoch 9: val_accuracy did not improve from 0.88070\n",
      "\u001b[1m143/143\u001b[0m \u001b[32m━━━━━━━━━━━━━━━━━━━━\u001b[0m\u001b[37m\u001b[0m \u001b[1m76s\u001b[0m 531ms/step - accuracy: 0.8774 - loss: 0.2806 - val_accuracy: 0.8246 - val_loss: 0.3531 - learning_rate: 1.0000e-04\n",
      "Epoch 10/20\n",
      "\u001b[1m143/143\u001b[0m \u001b[32m━━━━━━━━━━━━━━━━━━━━\u001b[0m\u001b[37m\u001b[0m \u001b[1m0s\u001b[0m 471ms/step - accuracy: 0.8729 - loss: 0.2901\n",
      "Epoch 10: val_accuracy did not improve from 0.88070\n",
      "\u001b[1m143/143\u001b[0m \u001b[32m━━━━━━━━━━━━━━━━━━━━\u001b[0m\u001b[37m\u001b[0m \u001b[1m76s\u001b[0m 531ms/step - accuracy: 0.8844 - loss: 0.2785 - val_accuracy: 0.8702 - val_loss: 0.2959 - learning_rate: 1.0000e-04\n",
      "Epoch 11/20\n",
      "\u001b[1m143/143\u001b[0m \u001b[32m━━━━━━━━━━━━━━━━━━━━\u001b[0m\u001b[37m\u001b[0m \u001b[1m0s\u001b[0m 481ms/step - accuracy: 0.8953 - loss: 0.2547\n",
      "Epoch 11: val_accuracy did not improve from 0.88070\n",
      "\u001b[1m143/143\u001b[0m \u001b[32m━━━━━━━━━━━━━━━━━━━━\u001b[0m\u001b[37m\u001b[0m \u001b[1m77s\u001b[0m 541ms/step - accuracy: 0.8918 - loss: 0.2541 - val_accuracy: 0.8772 - val_loss: 0.2718 - learning_rate: 1.0000e-04\n",
      "Epoch 12/20\n",
      "\u001b[1m143/143\u001b[0m \u001b[32m━━━━━━━━━━━━━━━━━━━━\u001b[0m\u001b[37m\u001b[0m \u001b[1m0s\u001b[0m 476ms/step - accuracy: 0.8944 - loss: 0.2600\n",
      "Epoch 12: val_accuracy did not improve from 0.88070\n",
      "\u001b[1m143/143\u001b[0m \u001b[32m━━━━━━━━━━━━━━━━━━━━\u001b[0m\u001b[37m\u001b[0m \u001b[1m77s\u001b[0m 535ms/step - accuracy: 0.8874 - loss: 0.2691 - val_accuracy: 0.8737 - val_loss: 0.2874 - learning_rate: 1.0000e-04\n",
      "Epoch 13/20\n",
      "\u001b[1m143/143\u001b[0m \u001b[32m━━━━━━━━━━━━━━━━━━━━\u001b[0m\u001b[37m\u001b[0m \u001b[1m0s\u001b[0m 475ms/step - accuracy: 0.9031 - loss: 0.2514\n",
      "Epoch 13: val_accuracy improved from 0.88070 to 0.89123, saving model to best_transfer_model.keras\n",
      "\u001b[1m143/143\u001b[0m \u001b[32m━━━━━━━━━━━━━━━━━━━━\u001b[0m\u001b[37m\u001b[0m \u001b[1m79s\u001b[0m 549ms/step - accuracy: 0.9076 - loss: 0.2345 - val_accuracy: 0.8912 - val_loss: 0.2567 - learning_rate: 1.0000e-04\n",
      "Epoch 14/20\n",
      "\u001b[1m143/143\u001b[0m \u001b[32m━━━━━━━━━━━━━━━━━━━━\u001b[0m\u001b[37m\u001b[0m \u001b[1m0s\u001b[0m 479ms/step - accuracy: 0.8863 - loss: 0.2515\n",
      "Epoch 14: val_accuracy improved from 0.89123 to 0.89825, saving model to best_transfer_model.keras\n",
      "\u001b[1m143/143\u001b[0m \u001b[32m━━━━━━━━━━━━━━━━━━━━\u001b[0m\u001b[37m\u001b[0m \u001b[1m79s\u001b[0m 550ms/step - accuracy: 0.8914 - loss: 0.2508 - val_accuracy: 0.8982 - val_loss: 0.2591 - learning_rate: 1.0000e-04\n",
      "Epoch 15/20\n",
      "\u001b[1m143/143\u001b[0m \u001b[32m━━━━━━━━━━━━━━━━━━━━\u001b[0m\u001b[37m\u001b[0m \u001b[1m0s\u001b[0m 477ms/step - accuracy: 0.9024 - loss: 0.2239\n",
      "Epoch 15: val_accuracy improved from 0.89825 to 0.90877, saving model to best_transfer_model.keras\n",
      "\u001b[1m143/143\u001b[0m \u001b[32m━━━━━━━━━━━━━━━━━━━━\u001b[0m\u001b[37m\u001b[0m \u001b[1m79s\u001b[0m 549ms/step - accuracy: 0.9063 - loss: 0.2274 - val_accuracy: 0.9088 - val_loss: 0.2317 - learning_rate: 1.0000e-04\n",
      "Epoch 16/20\n",
      "\u001b[1m143/143\u001b[0m \u001b[32m━━━━━━━━━━━━━━━━━━━━\u001b[0m\u001b[37m\u001b[0m \u001b[1m0s\u001b[0m 478ms/step - accuracy: 0.9009 - loss: 0.2264\n",
      "Epoch 16: val_accuracy improved from 0.90877 to 0.93333, saving model to best_transfer_model.keras\n",
      "\u001b[1m143/143\u001b[0m \u001b[32m━━━━━━━━━━━━━━━━━━━━\u001b[0m\u001b[37m\u001b[0m \u001b[1m79s\u001b[0m 550ms/step - accuracy: 0.8975 - loss: 0.2377 - val_accuracy: 0.9333 - val_loss: 0.2017 - learning_rate: 1.0000e-04\n",
      "Epoch 17/20\n",
      "\u001b[1m143/143\u001b[0m \u001b[32m━━━━━━━━━━━━━━━━━━━━\u001b[0m\u001b[37m\u001b[0m \u001b[1m0s\u001b[0m 473ms/step - accuracy: 0.9127 - loss: 0.2207\n",
      "Epoch 17: val_accuracy did not improve from 0.93333\n",
      "\u001b[1m143/143\u001b[0m \u001b[32m━━━━━━━━━━━━━━━━━━━━\u001b[0m\u001b[37m\u001b[0m \u001b[1m76s\u001b[0m 533ms/step - accuracy: 0.9137 - loss: 0.2114 - val_accuracy: 0.8842 - val_loss: 0.2896 - learning_rate: 1.0000e-04\n",
      "Epoch 18/20\n",
      "\u001b[1m143/143\u001b[0m \u001b[32m━━━━━━━━━━━━━━━━━━━━\u001b[0m\u001b[37m\u001b[0m \u001b[1m0s\u001b[0m 476ms/step - accuracy: 0.9214 - loss: 0.2104\n",
      "Epoch 18: val_accuracy did not improve from 0.93333\n",
      "\u001b[1m143/143\u001b[0m \u001b[32m━━━━━━━━━━━━━━━━━━━━\u001b[0m\u001b[37m\u001b[0m \u001b[1m77s\u001b[0m 538ms/step - accuracy: 0.9194 - loss: 0.2059 - val_accuracy: 0.8702 - val_loss: 0.2935 - learning_rate: 1.0000e-04\n",
      "Epoch 19/20\n",
      "\u001b[1m143/143\u001b[0m \u001b[32m━━━━━━━━━━━━━━━━━━━━\u001b[0m\u001b[37m\u001b[0m \u001b[1m0s\u001b[0m 476ms/step - accuracy: 0.9304 - loss: 0.1873\n",
      "Epoch 19: val_accuracy did not improve from 0.93333\n",
      "\u001b[1m143/143\u001b[0m \u001b[32m━━━━━━━━━━━━━━━━━━━━\u001b[0m\u001b[37m\u001b[0m \u001b[1m77s\u001b[0m 535ms/step - accuracy: 0.9190 - loss: 0.2010 - val_accuracy: 0.8947 - val_loss: 0.2374 - learning_rate: 1.0000e-04\n",
      "Epoch 20/20\n",
      "\u001b[1m143/143\u001b[0m \u001b[32m━━━━━━━━━━━━━━━━━━━━\u001b[0m\u001b[37m\u001b[0m \u001b[1m0s\u001b[0m 476ms/step - accuracy: 0.9317 - loss: 0.1775\n",
      "Epoch 20: val_accuracy did not improve from 0.93333\n",
      "\u001b[1m143/143\u001b[0m \u001b[32m━━━━━━━━━━━━━━━━━━━━\u001b[0m\u001b[37m\u001b[0m \u001b[1m77s\u001b[0m 535ms/step - accuracy: 0.9260 - loss: 0.1853 - val_accuracy: 0.8982 - val_loss: 0.2348 - learning_rate: 1.0000e-04\n"
     ]
    }
   ],
   "source": [
    "# Train the model with training and validation data generators\n",
    "# Includes early stopping, learning rate reduction, and best model checkpointing\n",
    "history_transfer = model_transfer.fit(\n",
    "    train_generator,\n",
    "    validation_data=validation_generator,\n",
    "    epochs=20,  # Set to a higher value (e.g. 10–50) for actual training\n",
    "    callbacks=[\n",
    "        early_stopping,\n",
    "        transfer_checkpoint,\n",
    "        reduce_lr\n",
    "    ],\n",
    "    class_weight=class_weights_dict,\n",
    "    verbose=1\n",
    ")"
   ]
  },
  {
   "cell_type": "markdown",
   "id": "96959f80",
   "metadata": {},
   "source": [
    "# plot_training_curves"
   ]
  },
  {
   "cell_type": "code",
   "execution_count": 20,
   "id": "a8ad764a",
   "metadata": {},
   "outputs": [
    {
     "data": {
      "image/png": "[encoded data removed]",
      "text/plain": [
       "<Figure size 2000x800 with 1 Axes>"
      ]
     },
     "metadata": {},
     "output_type": "display_data"
    },
    {
     "data": {
      "image/png": "[encoded data removed]",
      "text/plain": [
       "<Figure size 640x480 with 1 Axes>"
      ]
     },
     "metadata": {},
     "output_type": "display_data"
    }
   ],
   "source": [
    "def plot_history(history, history_name=\"Model\"):\n",
    "    tr_acc = history['accuracy']         # Training accuracy\n",
    "    val_acc = history['val_accuracy']    # Validation accuracy\n",
    "    tr_loss = history['loss']            # Training loss\n",
    "    val_loss = history['val_loss']       # Validation loss\n",
    "    epochs = [i + 1 for i in range(len(tr_acc))]  # Epoch range\n",
    "\n",
    "    plt.figure(figsize=(20, 8))\n",
    "    # Plot Accuracy\n",
    "    plt.subplot(1, 2, 2)\n",
    "    plt.plot(epochs, tr_acc, 'r', label='Training Accuracy')\n",
    "    plt.plot(epochs, val_acc, 'g', label='Validation Accuracy')\n",
    "    plt.scatter(np.argmax(val_acc) + 1, max(val_acc), s=100, c='blue',\n",
    "                label=f'Best Epoch: {np.argmax(val_acc) + 1}')\n",
    "    plt.title(f\"{history_name} - Accuracy Over Epochs\")\n",
    "    plt.xlabel(\"Epochs\")\n",
    "    plt.ylabel(\"Accuracy\")\n",
    "    plt.legend()\n",
    "\n",
    "    plt.tight_layout()\n",
    "    plt.show()\n",
    "    # Plot Loss\n",
    "    plt.subplot(1, 2, 1)\n",
    "    plt.plot(epochs, tr_loss, 'r', label='Training Loss')\n",
    "    plt.plot(epochs, val_loss, 'g', label='Validation Loss')\n",
    "    plt.scatter(np.argmin(val_loss) + 1, min(val_loss), s=100, c='blue',\n",
    "                label=f'Best Epoch: {np.argmin(val_loss) + 1}')\n",
    "    plt.title(f\"{history_name} - Loss Over Epochs\")\n",
    "    plt.xlabel(\"Epochs\")\n",
    "    plt.ylabel(\"Loss\")\n",
    "    plt.legend()\n",
    "\n",
    "# ----- Plot for CNN -----\n",
    "#plot_history(history_CNN.history, history_name=\"CNN\")\n",
    "# ----- Plot for Transfer Learning -----\n",
    "plot_history(history_transfer.history, history_name=\"Transfer Learning\")"
   ]
  },
  {
   "cell_type": "markdown",
   "id": "9fc4a9ee",
   "metadata": {},
   "source": [
    "# evaluate_models"
   ]
  },
  {
   "cell_type": "code",
   "execution_count": null,
   "id": "68d11ed5",
   "metadata": {},
   "outputs": [
    {
     "name": "stdout",
     "output_type": "stream",
     "text": [
      "=================== Transfer model ===================\n",
      "\u001b[1m143/143\u001b[0m \u001b[32m━━━━━━━━━━━━━━━━━━━━\u001b[0m\u001b[37m\u001b[0m \u001b[1m68s\u001b[0m 478ms/step - accuracy: 0.9172 - loss: 0.2069\n",
      "\u001b[1m18/18\u001b[0m \u001b[32m━━━━━━━━━━━━━━━━━━━━\u001b[0m\u001b[37m\u001b[0m \u001b[1m9s\u001b[0m 485ms/step - accuracy: 0.9228 - loss: 0.2245\n",
      "\u001b[1m18/18\u001b[0m \u001b[32m━━━━━━━━━━━━━━━━━━━━\u001b[0m\u001b[37m\u001b[0m \u001b[1m9s\u001b[0m 475ms/step - accuracy: 0.9476 - loss: 0.1624\n",
      "=== transfer Training Performance ===\n",
      "Train transfer Loss: 0.2069\n",
      "Train transfer Accuracy: 91.72%\n",
      "------------------------------\n",
      "=== transfer Validation Performance ===\n",
      "Validation transfer Loss: 0.2245\n",
      "Validation transfer Accuracy: 92.28%\n",
      "------------------------------\n",
      "=== transfer Test Performance ===\n",
      "Test transfer Loss: 0.1624\n",
      "Test transfer Accuracy: 94.76%\n"
     ]
    }
   ],
   "source": [
    "# Evaluate the model on the training dataset\n",
    "train_score_CNN = model_CNN.evaluate(train_generator)\n",
    "\n",
    "# Evaluate the model on the validation dataset\n",
    "valid_score_CNN = model_CNN.evaluate(validation_generator)\n",
    "\n",
    "# Evaluate the model on the external test dataset \n",
    "test_score_CNN = model_CNN.evaluate(test_generator)\n",
    "\n",
    "# Print the evaluation results with formatting\n",
    "print(\"=== CNN Training Performance ===\")\n",
    "print(f\"Train CNN Loss: {train_score_CNN[0]:.4f}\")\n",
    "print(f\"Train CNN Accuracy: {train_score_CNN[1]*100:.2f}%\")\n",
    "print('-' * 30)\n",
    "\n",
    "print(\"=== CNN Validation Performance ===\")\n",
    "print(f\"Validation CNN Loss: {valid_score_CNN[0]:.4f}\")\n",
    "print(f\"Validation CNN Accuracy: {valid_score_CNN[1]*100:.2f}%\")\n",
    "print('-' * 30)\n",
    "\n",
    "print(\"=== CNN Test Performance ===\")\n",
    "print(f\"Test CNN Loss: {test_score_CNN[0]:.4f}\")\n",
    "print(f\"Test CNN Accuracy: {test_score_CNN[1]*100:.2f}%\")\n",
    "print(\"=================== Transfer model ===================\")\n",
    "# Evaluate the model on the training dataset\n",
    "train_score_transfer = model_transfer.evaluate(train_generator)\n",
    "\n",
    "# Evaluate the model on the validation dataset\n",
    "valid_score_transfer = model_transfer.evaluate(validation_generator)\n",
    "\n",
    "# Evaluate the model on the external test dataset\n",
    "test_score_transfer = model_transfer.evaluate(test_generator)\n",
    "\n",
    "# Print the evaluation results with formatting\n",
    "print(\"=== transfer Training Performance ===\")\n",
    "print(f\"Train transfer Loss: {train_score_transfer[0]:.4f}\")\n",
    "print(f\"Train transfer Accuracy: {train_score_transfer[1]*100:.2f}%\")\n",
    "print('-' * 30)\n",
    "\n",
    "print(\"=== transfer Validation Performance ===\")\n",
    "print(f\"Validation transfer Loss: {valid_score_transfer[0]:.4f}\")\n",
    "print(f\"Validation transfer Accuracy: {valid_score_transfer[1]*100:.2f}%\")\n",
    "print('-' * 30)\n",
    "\n",
    "print(\"=== transfer Test Performance ===\")\n",
    "print(f\"Test transfer Loss: {test_score_transfer[0]:.4f}\")\n",
    "print(f\"Test transfer Accuracy: {test_score_transfer[1]*100:.2f}%\")"
   ]
  },
  {
   "cell_type": "markdown",
   "id": "a59d7dc1",
   "metadata": {},
   "source": [
    "# Confusion Matrix & Classification Report"
   ]
  },
  {
   "cell_type": "code",
   "execution_count": null,
   "id": "4c31672d",
   "metadata": {},
   "outputs": [
    {
     "name": "stdout",
     "output_type": "stream",
     "text": [
      "=== Classification Report (Transfer Learning (InceptionResNetV2)) ===\n",
      "              precision    recall  f1-score   support\n",
      "\n",
      "          no       0.95      0.94      0.95       143\n",
      "         yes       0.94      0.95      0.95       143\n",
      "\n",
      "    accuracy                           0.95       286\n",
      "   macro avg       0.95      0.95      0.95       286\n",
      "weighted avg       0.95      0.95      0.95       286\n",
      "\n"
     ]
    },
    {
     "data": {
      "image/png": "[encoded data removed]",
      "text/plain": [
       "<Figure size 600x500 with 2 Axes>"
      ]
     },
     "metadata": {},
     "output_type": "display_data"
    }
   ],
   "source": [
    "def evaluate_predictions(model, model_name, test_generator):\n",
    "    # Get true labels\n",
    "    Y_true = test_generator.classes\n",
    "    class_names = list(test_generator.class_indices.keys())\n",
    "\n",
    "    # Predict probabilities\n",
    "    Y_pred_probs = model.predict(test_generator, verbose=0)\n",
    "    Y_pred = np.argmax(Y_pred_probs, axis=1)\n",
    "\n",
    "    # Classification report\n",
    "    print(f\"=== Classification Report ({model_name}) ===\")\n",
    "    print(classification_report(Y_true, Y_pred, target_names=class_names))\n",
    "\n",
    "    # Confusion matrix\n",
    "    cm = confusion_matrix(Y_true, Y_pred)\n",
    "\n",
    "    # Plot confusion matrix\n",
    "    plt.figure(figsize=(6, 5))\n",
    "    sns.heatmap(cm, annot=True, fmt='d', cmap='Blues',\n",
    "                xticklabels=class_names,\n",
    "                yticklabels=class_names)\n",
    "    plt.title(f'Confusion Matrix - {model_name}')\n",
    "    plt.xlabel('Predicted Label')\n",
    "    plt.ylabel('True Label')\n",
    "    plt.tight_layout()\n",
    "    plt.show()\n",
    "\n",
    "# Run models\n",
    "#evaluate_predictions(model_CNN, \"CNN\", test_generator)\n",
    "evaluate_predictions(model_transfer, \"Transfer Learning (InceptionResNetV2)\", test_generator)"
   ]
  }
 ],
 "metadata": {
  "kernelspec": {
   "display_name": ".venv (3.11.5)",
   "language": "python",
   "name": "python3"
  },
  "language_info": {
   "codemirror_mode": {
    "name": "ipython",
    "version": 3
   },
   "file_extension": ".py",
   "mimetype": "text/x-python",
   "name": "python",
   "nbconvert_exporter": "python",
   "pygments_lexer": "ipython3",
   "version": "3.11.5"
  }
 },
 "nbformat": 4,
 "nbformat_minor": 5
}
